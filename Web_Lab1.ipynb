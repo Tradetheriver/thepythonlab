{
 "cells": [
  {
   "cell_type": "markdown",
   "metadata": {},
   "source": [
    "# LAB1 - Trabajando con estadisticas sobre las opciones del SPX"
   ]
  },
  {
   "cell_type": "markdown",
   "metadata": {},
   "source": [
    "En este articulo vamos a tratar un uso basico de pandas. Crearemos un dataframe de una serie de archivos separados por comas , y lo guardaremos en pickle para su posterior uso.  \n",
    "Ademas realizaremos un analisis exploratorio de los datos que nos puede dar una vision preliminar de lo que estamos tratanto."
   ]
  },
  {
   "cell_type": "markdown",
   "metadata": {},
   "source": [
    "#### Cargamos todas las librerias necesarias "
   ]
  },
  {
   "cell_type": "code",
   "execution_count": null,
   "metadata": {
    "scrolled": true
   },
   "outputs": [],
   "source": [
    "import pandas as pd \n",
    "import os\n",
    "import numpy as np \n",
    "import seaborn as sns\n",
    "import scipy \n",
    "import datetime \n",
    "%matplotlib inline\n",
    "import matplotlib.pyplot as plt\n",
    "import matplotlib.pylab as pylab\n",
    "pylab.rcParams['figure.figsize'] = 30, 12 \n",
    "plt.style.use('ggplot')"
   ]
  },
  {
   "cell_type": "markdown",
   "metadata": {},
   "source": [
    "### Vamos a crear el dataframe"
   ]
  },
  {
   "cell_type": "markdown",
   "metadata": {},
   "source": [
    "Vamos a declarar una carpeta, donde tendremos nuestros archivos csv que queramos anyadir a nuestro dataframe para su posterior tratamiento"
   ]
  },
  {
   "cell_type": "code",
   "execution_count": null,
   "metadata": {
    "scrolled": true
   },
   "outputs": [],
   "source": [
    "mainpath = '../../datasets/lab1/'\n",
    "files = os.listdir(mainpath)\n",
    "Symbol = 'SPX'\n",
    "symboldataname = 'spx_stats.pickle'\n",
    "Symbol2 ='RUT'\n",
    "symboldataname2 = 'rut_stats.pickle'"
   ]
  },
  {
   "cell_type": "markdown",
   "metadata": {},
   "source": [
    "Vamos a cargar todos los archivos que hay dentro del mainpath, y indexarlos por quotedate"
   ]
  },
  {
   "cell_type": "code",
   "execution_count": null,
   "metadata": {
    "scrolled": true
   },
   "outputs": [],
   "source": [
    "datos={}\n",
    "contador = 1\n",
    "df = pd.DataFrame()\n",
    "data = pd.DataFrame()\n",
    "\n",
    "\n",
    "for file in range(len(files)):\n",
    "    usefile = files[file]\n",
    "    print(\"Archivo numero :\" + str(contador) + \" de un total de \" + str((len(files))) + \" archivos\")\n",
    "    contador = contador +1\n",
    "    ruta = mainpath + \"/\" + str(usefile) \n",
    "    df = pd.read_csv(ruta,parse_dates=True,index_col=['quotedate'])\n",
    "    datos[usefile] = df\n",
    "        \n",
    "data = pd.concat(datos.values(), keys=datos.keys() , sort='True')"
   ]
  },
  {
   "cell_type": "code",
   "execution_count": null,
   "metadata": {
    "scrolled": false
   },
   "outputs": [],
   "source": [
    "data.head(5)"
   ]
  },
  {
   "cell_type": "markdown",
   "metadata": {},
   "source": [
    "Como podemos observar, necesitamos manipular el dataframe para adaptarlo a nuestras necesidades, le quitaremos el multinidice, y seleccionaremos sol las columnas que nos interesen.  \n",
    "ademas tambien lo ordenaremos"
   ]
  },
  {
   "cell_type": "code",
   "execution_count": null,
   "metadata": {
    "scrolled": true
   },
   "outputs": [],
   "source": [
    "data = data[['symbol','iv30call','calloi','callvol','iv30put','putoi','putvol','iv30mean','totalvol']]\n",
    "data = data.droplevel(level=0)\n",
    "data = data.sort_index(axis=0)\n"
   ]
  },
  {
   "cell_type": "code",
   "execution_count": null,
   "metadata": {
    "scrolled": true
   },
   "outputs": [],
   "source": [
    "data.head(5)"
   ]
  },
  {
   "cell_type": "markdown",
   "metadata": {},
   "source": [
    "Ahora, vamos a crear dos dataframes cada uno con un ticker distinto, y los guardaremos en formato pickle para su posterior uso"
   ]
  },
  {
   "cell_type": "code",
   "execution_count": null,
   "metadata": {
    "scrolled": true
   },
   "outputs": [],
   "source": [
    "symboldata = data[data['symbol'] == Symbol]\n",
    "symboldata2 = data[data['symbol'] == Symbol2]\n",
    "symboldata = symboldata[['iv30call','calloi','callvol','iv30put','putoi','putvol','iv30mean','totalvol']]\n",
    "symboldata2 = symboldata2[['iv30call','calloi','callvol','iv30put','putoi','putvol','iv30mean','totalvol']]\n",
    "symboldata = symboldata.sort_index(axis=0)\n",
    "symboldata2 = symboldata2.sort_index(axis=0)\n",
    "symboldata.to_pickle('/home/py/datasets/pickle'+ '/' + symboldataname)\n",
    "symboldata2.to_pickle('/home/py/datasets/pickle' + '/' + symboldataname2 )\n"
   ]
  },
  {
   "cell_type": "code",
   "execution_count": null,
   "metadata": {
    "scrolled": true
   },
   "outputs": [],
   "source": [
    "symboldata.head(5)"
   ]
  },
  {
   "cell_type": "code",
   "execution_count": null,
   "metadata": {
    "scrolled": true
   },
   "outputs": [],
   "source": [
    "symboldata2.head(5)"
   ]
  },
  {
   "cell_type": "markdown",
   "metadata": {},
   "source": [
    "#### Cargamos el pickle, y comparamos la velocidad de carga en comparacion del read csv "
   ]
  },
  {
   "cell_type": "code",
   "execution_count": null,
   "metadata": {
    "scrolled": true
   },
   "outputs": [],
   "source": [
    "df1 = pd.read_pickle('/home/py/datasets/pickle'+ '/' + symboldataname)\n",
    "df2 = pd.read_pickle('/home/py/datasets/pickle'+ '/' + symboldataname2)"
   ]
  },
  {
   "cell_type": "markdown",
   "metadata": {},
   "source": [
    "Calculamos la correlacion de una ventana de 5 periodos entre dataframes"
   ]
  },
  {
   "cell_type": "code",
   "execution_count": null,
   "metadata": {
    "scrolled": true
   },
   "outputs": [],
   "source": [
    "\n",
    "df1.iv30put.rolling(5).corr(df1.iv30call.rolling(5)).plot(color='r',alpha=0.3)\n",
    "plt.legend(['IV CORR'])\n",
    "df1.putoi.rolling(5).corr(df1.calloi.rolling(5)).plot(color='b',alpha=0.4)\n",
    "plt.legend(['IO CORR'])\n",
    "df1.putvol.rolling(5).corr(df1.callvol.rolling(5)).plot(color='g',alpha=0.5)\n",
    "plt.legend(['VOL CORR'])\n"
   ]
  },
  {
   "cell_type": "code",
   "execution_count": null,
   "metadata": {
    "scrolled": true
   },
   "outputs": [],
   "source": [
    "correlacion = df1.corr(method = 'kendall')\n",
    "correlacion_mean = correlacion.mean() "
   ]
  },
  {
   "cell_type": "markdown",
   "metadata": {},
   "source": [
    "Vamos a visualizar las correlaciones entre las variables"
   ]
  },
  {
   "cell_type": "code",
   "execution_count": null,
   "metadata": {
    "scrolled": true
   },
   "outputs": [],
   "source": [
    "correlacion.plot.bar()"
   ]
  },
  {
   "cell_type": "markdown",
   "metadata": {},
   "source": [
    "Con esta forma de visualizar la informacion, queda clara, pero aun podriamos visualizarla mucho mejor mediante un mapa de calor"
   ]
  },
  {
   "cell_type": "code",
   "execution_count": null,
   "metadata": {
    "scrolled": true
   },
   "outputs": [],
   "source": [
    "mask = np.zeros_like(correlacion, dtype=np.bool)\n",
    "mask[np.triu_indices_from(mask)] = True\n",
    "\n",
    "\n",
    "plt.figure(figsize=(12,10),dpi=80)\n",
    "sns.heatmap(correlacion,mask=mask,\n",
    "            cmap='RdYlGn',center=0, annot=True)\n"
   ]
  },
  {
   "cell_type": "code",
   "execution_count": null,
   "metadata": {
    "scrolled": true
   },
   "outputs": [],
   "source": [
    "correlacionintermarket = pd.DataFrame(index=df1.index)\n",
    "correlacionintermarket['iv30callRUT'] = df2.iv30call\n",
    "correlacionintermarket['calloiRUT'] = df2.calloi\n",
    "correlacionintermarket['callvolRUT'] = df2.callvol\n",
    "correlacionintermarket['iv30putRUT'] = df2.iv30put\n",
    "correlacionintermarket['putoiRUT'] = df2.putoi\n",
    "correlacionintermarket['putvolRUT'] = df2.putvol\n",
    "correlacionintermarket['ivmean30RUT'] = df2.iv30mean\n",
    "correlacionintermarket['totalvolRUT'] = df2.totalvol\n",
    "correlacionintermarket = correlacionintermarket.corr(method = 'kendall')\n",
    "correlacionintermarketmean = correlacionintermarket.mean()"
   ]
  },
  {
   "cell_type": "code",
   "execution_count": null,
   "metadata": {
    "scrolled": true
   },
   "outputs": [],
   "source": [
    "mask = np.zeros_like(correlacionintermarket, dtype=np.bool)\n",
    "mask[np.triu_indices_from(mask)] = True\n",
    "\n",
    "\n",
    "plt.figure(figsize=(12,10),dpi=80)\n",
    "sns.heatmap(correlacionintermarket,mask=mask,\n",
    "            cmap='RdYlGn',center=0, annot=True)\n"
   ]
  },
  {
   "cell_type": "code",
   "execution_count": null,
   "metadata": {},
   "outputs": [],
   "source": []
  },
  {
   "cell_type": "code",
   "execution_count": null,
   "metadata": {},
   "outputs": [],
   "source": []
  },
  {
   "cell_type": "code",
   "execution_count": null,
   "metadata": {},
   "outputs": [],
   "source": []
  }
 ],
 "metadata": {
  "kernelspec": {
   "display_name": "Python 3",
   "language": "python",
   "name": "python3"
  },
  "language_info": {
   "codemirror_mode": {
    "name": "ipython",
    "version": 3
   },
   "file_extension": ".py",
   "mimetype": "text/x-python",
   "name": "python",
   "nbconvert_exporter": "python",
   "pygments_lexer": "ipython3",
   "version": "3.7.2"
  }
 },
 "nbformat": 4,
 "nbformat_minor": 2
}
