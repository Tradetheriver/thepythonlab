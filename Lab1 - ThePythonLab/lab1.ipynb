{
 "cells": [
  {
   "cell_type": "markdown",
   "metadata": {},
   "source": [
    "# LAB1 - Trabajando con estadisticas sobre las opciones del SPX"
   ]
  },
  {
   "cell_type": "markdown",
   "metadata": {},
   "source": [
    "En este articulo vamos a tratar un uso basico de pandas. Crearemos un dataframe de una serie de archivos separados por comas , y lo guardaremos en pickle para su posterior uso.  \n",
    "Ademas realizaremos un analisis exploratorio de los datos que nos puede dar una vision preliminar de lo que estamos tratanto."
   ]
  },
  {
   "cell_type": "markdown",
   "metadata": {},
   "source": [
    "#### Cargamos todas las librerias necesarias "
   ]
  },
  {
   "cell_type": "code",
   "execution_count": 1,
   "metadata": {
    "scrolled": true
   },
   "outputs": [],
   "source": [
    "import pandas as pd \n",
    "import os\n",
    "import numpy as np \n",
    "import seaborn as sns\n",
    "import scipy \n",
    "import datetime \n",
    "%matplotlib inline\n",
    "import matplotlib.pyplot as plt\n",
    "import matplotlib.pylab as pylab\n",
    "pylab.rcParams['figure.figsize'] = 30, 12 \n",
    "plt.style.use('ggplot')"
   ]
  },
  {
   "cell_type": "markdown",
   "metadata": {},
   "source": [
    "### Vamos a crear el dataframe"
   ]
  },
  {
   "cell_type": "markdown",
   "metadata": {},
   "source": [
    "Vamos a declarar una carpeta, donde tendremos nuestros archivos csv que queramos anyadir a nuestro dataframe para su posterior tratamiento"
   ]
  },
  {
   "cell_type": "code",
   "execution_count": 2,
   "metadata": {
    "scrolled": true
   },
   "outputs": [],
   "source": [
    "mainpath = '../../datasets/lab1/'\n",
    "files = os.listdir(mainpath)\n",
    "Symbol = 'SPX'\n",
    "symboldataname = 'spx_stats.pickle'\n",
    "Symbol2 ='RUT'\n",
    "symboldataname2 = 'rut_stats.pickle'"
   ]
  },
  {
   "cell_type": "markdown",
   "metadata": {},
   "source": [
    "Vamos a cargar todos los archivos que hay dentro del mainpath, y indexarlos por quotedate"
   ]
  },
  {
   "cell_type": "code",
   "execution_count": 3,
   "metadata": {
    "scrolled": true
   },
   "outputs": [
    {
     "name": "stdout",
     "output_type": "stream",
     "text": [
      "Archivo numero :1 de un total de 96 archivos\n",
      "Archivo numero :2 de un total de 96 archivos\n",
      "Archivo numero :3 de un total de 96 archivos\n",
      "Archivo numero :4 de un total de 96 archivos\n",
      "Archivo numero :5 de un total de 96 archivos\n",
      "Archivo numero :6 de un total de 96 archivos\n",
      "Archivo numero :7 de un total de 96 archivos\n",
      "Archivo numero :8 de un total de 96 archivos\n",
      "Archivo numero :9 de un total de 96 archivos\n",
      "Archivo numero :10 de un total de 96 archivos\n",
      "Archivo numero :11 de un total de 96 archivos\n",
      "Archivo numero :12 de un total de 96 archivos\n",
      "Archivo numero :13 de un total de 96 archivos\n",
      "Archivo numero :14 de un total de 96 archivos\n",
      "Archivo numero :15 de un total de 96 archivos\n",
      "Archivo numero :16 de un total de 96 archivos\n",
      "Archivo numero :17 de un total de 96 archivos\n",
      "Archivo numero :18 de un total de 96 archivos\n",
      "Archivo numero :19 de un total de 96 archivos\n",
      "Archivo numero :20 de un total de 96 archivos\n",
      "Archivo numero :21 de un total de 96 archivos\n",
      "Archivo numero :22 de un total de 96 archivos\n",
      "Archivo numero :23 de un total de 96 archivos\n",
      "Archivo numero :24 de un total de 96 archivos\n",
      "Archivo numero :25 de un total de 96 archivos\n",
      "Archivo numero :26 de un total de 96 archivos\n",
      "Archivo numero :27 de un total de 96 archivos\n",
      "Archivo numero :28 de un total de 96 archivos\n",
      "Archivo numero :29 de un total de 96 archivos\n",
      "Archivo numero :30 de un total de 96 archivos\n",
      "Archivo numero :31 de un total de 96 archivos\n",
      "Archivo numero :32 de un total de 96 archivos\n",
      "Archivo numero :33 de un total de 96 archivos\n",
      "Archivo numero :34 de un total de 96 archivos\n",
      "Archivo numero :35 de un total de 96 archivos\n",
      "Archivo numero :36 de un total de 96 archivos\n",
      "Archivo numero :37 de un total de 96 archivos\n",
      "Archivo numero :38 de un total de 96 archivos\n",
      "Archivo numero :39 de un total de 96 archivos\n",
      "Archivo numero :40 de un total de 96 archivos\n",
      "Archivo numero :41 de un total de 96 archivos\n",
      "Archivo numero :42 de un total de 96 archivos\n",
      "Archivo numero :43 de un total de 96 archivos\n",
      "Archivo numero :44 de un total de 96 archivos\n",
      "Archivo numero :45 de un total de 96 archivos\n",
      "Archivo numero :46 de un total de 96 archivos\n",
      "Archivo numero :47 de un total de 96 archivos\n",
      "Archivo numero :48 de un total de 96 archivos\n",
      "Archivo numero :49 de un total de 96 archivos\n",
      "Archivo numero :50 de un total de 96 archivos\n",
      "Archivo numero :51 de un total de 96 archivos\n",
      "Archivo numero :52 de un total de 96 archivos\n",
      "Archivo numero :53 de un total de 96 archivos\n",
      "Archivo numero :54 de un total de 96 archivos\n",
      "Archivo numero :55 de un total de 96 archivos\n",
      "Archivo numero :56 de un total de 96 archivos\n",
      "Archivo numero :57 de un total de 96 archivos\n",
      "Archivo numero :58 de un total de 96 archivos\n",
      "Archivo numero :59 de un total de 96 archivos\n",
      "Archivo numero :60 de un total de 96 archivos\n",
      "Archivo numero :61 de un total de 96 archivos\n",
      "Archivo numero :62 de un total de 96 archivos\n",
      "Archivo numero :63 de un total de 96 archivos\n",
      "Archivo numero :64 de un total de 96 archivos\n",
      "Archivo numero :65 de un total de 96 archivos\n",
      "Archivo numero :66 de un total de 96 archivos\n",
      "Archivo numero :67 de un total de 96 archivos\n",
      "Archivo numero :68 de un total de 96 archivos\n",
      "Archivo numero :69 de un total de 96 archivos\n",
      "Archivo numero :70 de un total de 96 archivos\n",
      "Archivo numero :71 de un total de 96 archivos\n",
      "Archivo numero :72 de un total de 96 archivos\n",
      "Archivo numero :73 de un total de 96 archivos\n",
      "Archivo numero :74 de un total de 96 archivos\n",
      "Archivo numero :75 de un total de 96 archivos\n",
      "Archivo numero :76 de un total de 96 archivos\n",
      "Archivo numero :77 de un total de 96 archivos\n",
      "Archivo numero :78 de un total de 96 archivos\n",
      "Archivo numero :79 de un total de 96 archivos\n",
      "Archivo numero :80 de un total de 96 archivos\n",
      "Archivo numero :81 de un total de 96 archivos\n",
      "Archivo numero :82 de un total de 96 archivos\n",
      "Archivo numero :83 de un total de 96 archivos\n",
      "Archivo numero :84 de un total de 96 archivos\n",
      "Archivo numero :85 de un total de 96 archivos\n",
      "Archivo numero :86 de un total de 96 archivos\n",
      "Archivo numero :87 de un total de 96 archivos\n",
      "Archivo numero :88 de un total de 96 archivos\n",
      "Archivo numero :89 de un total de 96 archivos\n",
      "Archivo numero :90 de un total de 96 archivos\n",
      "Archivo numero :91 de un total de 96 archivos\n",
      "Archivo numero :92 de un total de 96 archivos\n",
      "Archivo numero :93 de un total de 96 archivos\n",
      "Archivo numero :94 de un total de 96 archivos\n",
      "Archivo numero :95 de un total de 96 archivos\n",
      "Archivo numero :96 de un total de 96 archivos\n"
     ]
    }
   ],
   "source": [
    "datos={}\n",
    "contador = 1\n",
    "df = pd.DataFrame()\n",
    "data = pd.DataFrame()\n",
    "\n",
    "\n",
    "for file in range(len(files)):\n",
    "    usefile = files[file]\n",
    "    print(\"Archivo numero :\" + str(contador) + \" de un total de \" + str((len(files))) + \" archivos\")\n",
    "    contador = contador +1\n",
    "    ruta = mainpath + \"/\" + str(usefile) \n",
    "    df = pd.read_csv(ruta,parse_dates=True,index_col=['quotedate'])\n",
    "    datos[usefile] = df\n",
    "        \n",
    "data = pd.concat(datos.values(), keys=datos.keys() , sort='True')"
   ]
  },
  {
   "cell_type": "code",
   "execution_count": 4,
   "metadata": {
    "scrolled": false
   },
   "outputs": [
    {
     "data": {
      "text/html": [
       "<div>\n",
       "<style scoped>\n",
       "    .dataframe tbody tr th:only-of-type {\n",
       "        vertical-align: middle;\n",
       "    }\n",
       "\n",
       "    .dataframe tbody tr th {\n",
       "        vertical-align: top;\n",
       "    }\n",
       "\n",
       "    .dataframe thead th {\n",
       "        text-align: right;\n",
       "    }\n",
       "</style>\n",
       "<table border=\"1\" class=\"dataframe\">\n",
       "  <thead>\n",
       "    <tr style=\"text-align: right;\">\n",
       "      <th></th>\n",
       "      <th></th>\n",
       "      <th>calloi</th>\n",
       "      <th>callvol</th>\n",
       "      <th>comment</th>\n",
       "      <th>iv30call</th>\n",
       "      <th>iv30mean</th>\n",
       "      <th>iv30put</th>\n",
       "      <th>putoi</th>\n",
       "      <th>putvol</th>\n",
       "      <th>symbol</th>\n",
       "      <th>totalvol</th>\n",
       "    </tr>\n",
       "    <tr>\n",
       "      <th></th>\n",
       "      <th>quotedate</th>\n",
       "      <th></th>\n",
       "      <th></th>\n",
       "      <th></th>\n",
       "      <th></th>\n",
       "      <th></th>\n",
       "      <th></th>\n",
       "      <th></th>\n",
       "      <th></th>\n",
       "      <th></th>\n",
       "      <th></th>\n",
       "    </tr>\n",
       "  </thead>\n",
       "  <tbody>\n",
       "    <tr>\n",
       "      <th rowspan=\"5\" valign=\"top\">L2_optionstats_20020226.csv</th>\n",
       "      <th>2002-02-26</th>\n",
       "      <td>37977</td>\n",
       "      <td>1370</td>\n",
       "      <td>NaN</td>\n",
       "      <td>0.4000</td>\n",
       "      <td>0.4072</td>\n",
       "      <td>0.4143</td>\n",
       "      <td>24638</td>\n",
       "      <td>73</td>\n",
       "      <td>A</td>\n",
       "      <td>1443</td>\n",
       "    </tr>\n",
       "    <tr>\n",
       "      <th>2002-02-26</th>\n",
       "      <td>48794</td>\n",
       "      <td>570</td>\n",
       "      <td>NaN</td>\n",
       "      <td>0.2912</td>\n",
       "      <td>0.2871</td>\n",
       "      <td>0.2829</td>\n",
       "      <td>33643</td>\n",
       "      <td>488</td>\n",
       "      <td>AA</td>\n",
       "      <td>1058</td>\n",
       "    </tr>\n",
       "    <tr>\n",
       "      <th>2002-02-26</th>\n",
       "      <td>5802</td>\n",
       "      <td>0</td>\n",
       "      <td>NaN</td>\n",
       "      <td>0.6245</td>\n",
       "      <td>0.6245</td>\n",
       "      <td>0.6245</td>\n",
       "      <td>446</td>\n",
       "      <td>0</td>\n",
       "      <td>AAI</td>\n",
       "      <td>0</td>\n",
       "    </tr>\n",
       "    <tr>\n",
       "      <th>2002-02-26</th>\n",
       "      <td>124561</td>\n",
       "      <td>1304</td>\n",
       "      <td>NaN</td>\n",
       "      <td>0.5788</td>\n",
       "      <td>0.5552</td>\n",
       "      <td>0.5317</td>\n",
       "      <td>67165</td>\n",
       "      <td>1160</td>\n",
       "      <td>AAPL</td>\n",
       "      <td>2464</td>\n",
       "    </tr>\n",
       "    <tr>\n",
       "      <th>2002-02-26</th>\n",
       "      <td>2180</td>\n",
       "      <td>40</td>\n",
       "      <td>NaN</td>\n",
       "      <td>0.4048</td>\n",
       "      <td>0.4048</td>\n",
       "      <td>0.4048</td>\n",
       "      <td>1265</td>\n",
       "      <td>2</td>\n",
       "      <td>ABF</td>\n",
       "      <td>42</td>\n",
       "    </tr>\n",
       "  </tbody>\n",
       "</table>\n",
       "</div>"
      ],
      "text/plain": [
       "                                        calloi  callvol  comment  iv30call  \\\n",
       "                            quotedate                                        \n",
       "L2_optionstats_20020226.csv 2002-02-26   37977     1370      NaN    0.4000   \n",
       "                            2002-02-26   48794      570      NaN    0.2912   \n",
       "                            2002-02-26    5802        0      NaN    0.6245   \n",
       "                            2002-02-26  124561     1304      NaN    0.5788   \n",
       "                            2002-02-26    2180       40      NaN    0.4048   \n",
       "\n",
       "                                        iv30mean  iv30put  putoi  putvol  \\\n",
       "                            quotedate                                      \n",
       "L2_optionstats_20020226.csv 2002-02-26    0.4072   0.4143  24638      73   \n",
       "                            2002-02-26    0.2871   0.2829  33643     488   \n",
       "                            2002-02-26    0.6245   0.6245    446       0   \n",
       "                            2002-02-26    0.5552   0.5317  67165    1160   \n",
       "                            2002-02-26    0.4048   0.4048   1265       2   \n",
       "\n",
       "                                       symbol  totalvol  \n",
       "                            quotedate                    \n",
       "L2_optionstats_20020226.csv 2002-02-26      A      1443  \n",
       "                            2002-02-26     AA      1058  \n",
       "                            2002-02-26    AAI         0  \n",
       "                            2002-02-26   AAPL      2464  \n",
       "                            2002-02-26    ABF        42  "
      ]
     },
     "execution_count": 4,
     "metadata": {},
     "output_type": "execute_result"
    }
   ],
   "source": [
    "data.head(5)"
   ]
  },
  {
   "cell_type": "markdown",
   "metadata": {},
   "source": [
    "Como podemos observar, necesitamos manipular el dataframe para adaptarlo a nuestras necesidades, le quitaremos el multinidice, y seleccionaremos sol las columnas que nos interesen.  \n",
    "ademas tambien lo ordenaremos"
   ]
  },
  {
   "cell_type": "code",
   "execution_count": 5,
   "metadata": {
    "scrolled": true
   },
   "outputs": [],
   "source": [
    "data = data[['symbol','iv30call','calloi','callvol','iv30put','putoi','putvol','iv30mean','totalvol']]\n",
    "data = data.droplevel(level=0)\n",
    "data = data.sort_index(axis=0)\n"
   ]
  },
  {
   "cell_type": "code",
   "execution_count": 6,
   "metadata": {
    "scrolled": true
   },
   "outputs": [
    {
     "data": {
      "text/html": [
       "<div>\n",
       "<style scoped>\n",
       "    .dataframe tbody tr th:only-of-type {\n",
       "        vertical-align: middle;\n",
       "    }\n",
       "\n",
       "    .dataframe tbody tr th {\n",
       "        vertical-align: top;\n",
       "    }\n",
       "\n",
       "    .dataframe thead th {\n",
       "        text-align: right;\n",
       "    }\n",
       "</style>\n",
       "<table border=\"1\" class=\"dataframe\">\n",
       "  <thead>\n",
       "    <tr style=\"text-align: right;\">\n",
       "      <th></th>\n",
       "      <th>symbol</th>\n",
       "      <th>iv30call</th>\n",
       "      <th>calloi</th>\n",
       "      <th>callvol</th>\n",
       "      <th>iv30put</th>\n",
       "      <th>putoi</th>\n",
       "      <th>putvol</th>\n",
       "      <th>iv30mean</th>\n",
       "      <th>totalvol</th>\n",
       "    </tr>\n",
       "    <tr>\n",
       "      <th>quotedate</th>\n",
       "      <th></th>\n",
       "      <th></th>\n",
       "      <th></th>\n",
       "      <th></th>\n",
       "      <th></th>\n",
       "      <th></th>\n",
       "      <th></th>\n",
       "      <th></th>\n",
       "      <th></th>\n",
       "    </tr>\n",
       "  </thead>\n",
       "  <tbody>\n",
       "    <tr>\n",
       "      <th>2002-02-01</th>\n",
       "      <td>RUT</td>\n",
       "      <td>0.2198</td>\n",
       "      <td>5938</td>\n",
       "      <td>107</td>\n",
       "      <td>0.1924</td>\n",
       "      <td>6350</td>\n",
       "      <td>5</td>\n",
       "      <td>0.2061</td>\n",
       "      <td>112</td>\n",
       "    </tr>\n",
       "    <tr>\n",
       "      <th>2002-02-01</th>\n",
       "      <td>SPX</td>\n",
       "      <td>0.1864</td>\n",
       "      <td>759979</td>\n",
       "      <td>42733</td>\n",
       "      <td>0.1785</td>\n",
       "      <td>961768</td>\n",
       "      <td>52404</td>\n",
       "      <td>0.1824</td>\n",
       "      <td>95137</td>\n",
       "    </tr>\n",
       "    <tr>\n",
       "      <th>2002-02-01</th>\n",
       "      <td>OEX</td>\n",
       "      <td>0.1965</td>\n",
       "      <td>89936</td>\n",
       "      <td>10661</td>\n",
       "      <td>0.2025</td>\n",
       "      <td>103760</td>\n",
       "      <td>13937</td>\n",
       "      <td>0.1995</td>\n",
       "      <td>24598</td>\n",
       "    </tr>\n",
       "    <tr>\n",
       "      <th>2002-02-01</th>\n",
       "      <td>NDX</td>\n",
       "      <td>0.3723</td>\n",
       "      <td>12828</td>\n",
       "      <td>800</td>\n",
       "      <td>0.3483</td>\n",
       "      <td>23365</td>\n",
       "      <td>1091</td>\n",
       "      <td>0.3603</td>\n",
       "      <td>1891</td>\n",
       "    </tr>\n",
       "    <tr>\n",
       "      <th>2002-02-04</th>\n",
       "      <td>SPX</td>\n",
       "      <td>0.2140</td>\n",
       "      <td>760140</td>\n",
       "      <td>22205</td>\n",
       "      <td>0.2138</td>\n",
       "      <td>969114</td>\n",
       "      <td>44813</td>\n",
       "      <td>0.2139</td>\n",
       "      <td>67018</td>\n",
       "    </tr>\n",
       "  </tbody>\n",
       "</table>\n",
       "</div>"
      ],
      "text/plain": [
       "           symbol  iv30call  calloi  callvol  iv30put   putoi  putvol  \\\n",
       "quotedate                                                               \n",
       "2002-02-01    RUT    0.2198    5938      107   0.1924    6350       5   \n",
       "2002-02-01    SPX    0.1864  759979    42733   0.1785  961768   52404   \n",
       "2002-02-01    OEX    0.1965   89936    10661   0.2025  103760   13937   \n",
       "2002-02-01    NDX    0.3723   12828      800   0.3483   23365    1091   \n",
       "2002-02-04    SPX    0.2140  760140    22205   0.2138  969114   44813   \n",
       "\n",
       "            iv30mean  totalvol  \n",
       "quotedate                       \n",
       "2002-02-01    0.2061       112  \n",
       "2002-02-01    0.1824     95137  \n",
       "2002-02-01    0.1995     24598  \n",
       "2002-02-01    0.3603      1891  \n",
       "2002-02-04    0.2139     67018  "
      ]
     },
     "execution_count": 6,
     "metadata": {},
     "output_type": "execute_result"
    }
   ],
   "source": [
    "data.head(5)"
   ]
  },
  {
   "cell_type": "markdown",
   "metadata": {},
   "source": [
    "Ahora, vamos a crear dos dataframes cada uno con un ticker distinto, y los guardaremos en formato pickle para su posterior uso"
   ]
  },
  {
   "cell_type": "code",
   "execution_count": 7,
   "metadata": {
    "scrolled": true
   },
   "outputs": [],
   "source": [
    "symboldata = data[data['symbol'] == Symbol]\n",
    "symboldata2 = data[data['symbol'] == Symbol2]\n",
    "symboldata = symboldata[['iv30call','calloi','callvol','iv30put','putoi','putvol','iv30mean','totalvol']]\n",
    "symboldata2 = symboldata2[['iv30call','calloi','callvol','iv30put','putoi','putvol','iv30mean','totalvol']]\n",
    "symboldata = symboldata.sort_index(axis=0)\n",
    "symboldata2 = symboldata2.sort_index(axis=0)\n",
    "symboldata.to_pickle('/home/py/datasets/pickle'+ '/' + symboldataname)\n",
    "symboldata2.to_pickle('/home/py/datasets/pickle' + '/' + symboldataname2 )\n"
   ]
  },
  {
   "cell_type": "code",
   "execution_count": 8,
   "metadata": {
    "scrolled": true
   },
   "outputs": [
    {
     "data": {
      "text/html": [
       "<div>\n",
       "<style scoped>\n",
       "    .dataframe tbody tr th:only-of-type {\n",
       "        vertical-align: middle;\n",
       "    }\n",
       "\n",
       "    .dataframe tbody tr th {\n",
       "        vertical-align: top;\n",
       "    }\n",
       "\n",
       "    .dataframe thead th {\n",
       "        text-align: right;\n",
       "    }\n",
       "</style>\n",
       "<table border=\"1\" class=\"dataframe\">\n",
       "  <thead>\n",
       "    <tr style=\"text-align: right;\">\n",
       "      <th></th>\n",
       "      <th>iv30call</th>\n",
       "      <th>calloi</th>\n",
       "      <th>callvol</th>\n",
       "      <th>iv30put</th>\n",
       "      <th>putoi</th>\n",
       "      <th>putvol</th>\n",
       "      <th>iv30mean</th>\n",
       "      <th>totalvol</th>\n",
       "    </tr>\n",
       "    <tr>\n",
       "      <th>quotedate</th>\n",
       "      <th></th>\n",
       "      <th></th>\n",
       "      <th></th>\n",
       "      <th></th>\n",
       "      <th></th>\n",
       "      <th></th>\n",
       "      <th></th>\n",
       "      <th></th>\n",
       "    </tr>\n",
       "  </thead>\n",
       "  <tbody>\n",
       "    <tr>\n",
       "      <th>2002-02-01</th>\n",
       "      <td>0.1864</td>\n",
       "      <td>759979</td>\n",
       "      <td>42733</td>\n",
       "      <td>0.1785</td>\n",
       "      <td>961768</td>\n",
       "      <td>52404</td>\n",
       "      <td>0.1824</td>\n",
       "      <td>95137</td>\n",
       "    </tr>\n",
       "    <tr>\n",
       "      <th>2002-02-04</th>\n",
       "      <td>0.2140</td>\n",
       "      <td>760140</td>\n",
       "      <td>22205</td>\n",
       "      <td>0.2138</td>\n",
       "      <td>969114</td>\n",
       "      <td>44813</td>\n",
       "      <td>0.2139</td>\n",
       "      <td>67018</td>\n",
       "    </tr>\n",
       "    <tr>\n",
       "      <th>2002-02-05</th>\n",
       "      <td>0.2056</td>\n",
       "      <td>752064</td>\n",
       "      <td>39131</td>\n",
       "      <td>0.2282</td>\n",
       "      <td>987312</td>\n",
       "      <td>56760</td>\n",
       "      <td>0.2169</td>\n",
       "      <td>95891</td>\n",
       "    </tr>\n",
       "    <tr>\n",
       "      <th>2002-02-06</th>\n",
       "      <td>0.2237</td>\n",
       "      <td>769705</td>\n",
       "      <td>42954</td>\n",
       "      <td>0.2278</td>\n",
       "      <td>1006851</td>\n",
       "      <td>45715</td>\n",
       "      <td>0.2258</td>\n",
       "      <td>88669</td>\n",
       "    </tr>\n",
       "    <tr>\n",
       "      <th>2002-02-07</th>\n",
       "      <td>0.2004</td>\n",
       "      <td>767797</td>\n",
       "      <td>32972</td>\n",
       "      <td>0.2333</td>\n",
       "      <td>1022354</td>\n",
       "      <td>57889</td>\n",
       "      <td>0.2168</td>\n",
       "      <td>90861</td>\n",
       "    </tr>\n",
       "  </tbody>\n",
       "</table>\n",
       "</div>"
      ],
      "text/plain": [
       "            iv30call  calloi  callvol  iv30put    putoi  putvol  iv30mean  \\\n",
       "quotedate                                                                   \n",
       "2002-02-01    0.1864  759979    42733   0.1785   961768   52404    0.1824   \n",
       "2002-02-04    0.2140  760140    22205   0.2138   969114   44813    0.2139   \n",
       "2002-02-05    0.2056  752064    39131   0.2282   987312   56760    0.2169   \n",
       "2002-02-06    0.2237  769705    42954   0.2278  1006851   45715    0.2258   \n",
       "2002-02-07    0.2004  767797    32972   0.2333  1022354   57889    0.2168   \n",
       "\n",
       "            totalvol  \n",
       "quotedate             \n",
       "2002-02-01     95137  \n",
       "2002-02-04     67018  \n",
       "2002-02-05     95891  \n",
       "2002-02-06     88669  \n",
       "2002-02-07     90861  "
      ]
     },
     "execution_count": 8,
     "metadata": {},
     "output_type": "execute_result"
    }
   ],
   "source": [
    "symboldata.head(5)"
   ]
  },
  {
   "cell_type": "code",
   "execution_count": 9,
   "metadata": {
    "scrolled": true
   },
   "outputs": [
    {
     "data": {
      "text/html": [
       "<div>\n",
       "<style scoped>\n",
       "    .dataframe tbody tr th:only-of-type {\n",
       "        vertical-align: middle;\n",
       "    }\n",
       "\n",
       "    .dataframe tbody tr th {\n",
       "        vertical-align: top;\n",
       "    }\n",
       "\n",
       "    .dataframe thead th {\n",
       "        text-align: right;\n",
       "    }\n",
       "</style>\n",
       "<table border=\"1\" class=\"dataframe\">\n",
       "  <thead>\n",
       "    <tr style=\"text-align: right;\">\n",
       "      <th></th>\n",
       "      <th>iv30call</th>\n",
       "      <th>calloi</th>\n",
       "      <th>callvol</th>\n",
       "      <th>iv30put</th>\n",
       "      <th>putoi</th>\n",
       "      <th>putvol</th>\n",
       "      <th>iv30mean</th>\n",
       "      <th>totalvol</th>\n",
       "    </tr>\n",
       "    <tr>\n",
       "      <th>quotedate</th>\n",
       "      <th></th>\n",
       "      <th></th>\n",
       "      <th></th>\n",
       "      <th></th>\n",
       "      <th></th>\n",
       "      <th></th>\n",
       "      <th></th>\n",
       "      <th></th>\n",
       "    </tr>\n",
       "  </thead>\n",
       "  <tbody>\n",
       "    <tr>\n",
       "      <th>2002-02-01</th>\n",
       "      <td>0.2198</td>\n",
       "      <td>5938</td>\n",
       "      <td>107</td>\n",
       "      <td>0.1924</td>\n",
       "      <td>6350</td>\n",
       "      <td>5</td>\n",
       "      <td>0.2061</td>\n",
       "      <td>112</td>\n",
       "    </tr>\n",
       "    <tr>\n",
       "      <th>2002-02-04</th>\n",
       "      <td>0.2336</td>\n",
       "      <td>6000</td>\n",
       "      <td>86</td>\n",
       "      <td>0.2412</td>\n",
       "      <td>6352</td>\n",
       "      <td>85</td>\n",
       "      <td>0.2374</td>\n",
       "      <td>171</td>\n",
       "    </tr>\n",
       "    <tr>\n",
       "      <th>2002-02-05</th>\n",
       "      <td>0.2549</td>\n",
       "      <td>6076</td>\n",
       "      <td>1089</td>\n",
       "      <td>0.2461</td>\n",
       "      <td>6368</td>\n",
       "      <td>2411</td>\n",
       "      <td>0.2505</td>\n",
       "      <td>3500</td>\n",
       "    </tr>\n",
       "    <tr>\n",
       "      <th>2002-02-06</th>\n",
       "      <td>0.2575</td>\n",
       "      <td>6649</td>\n",
       "      <td>5</td>\n",
       "      <td>0.2635</td>\n",
       "      <td>8486</td>\n",
       "      <td>1854</td>\n",
       "      <td>0.2605</td>\n",
       "      <td>1859</td>\n",
       "    </tr>\n",
       "    <tr>\n",
       "      <th>2002-02-07</th>\n",
       "      <td>0.2518</td>\n",
       "      <td>6147</td>\n",
       "      <td>28</td>\n",
       "      <td>0.2945</td>\n",
       "      <td>9572</td>\n",
       "      <td>153</td>\n",
       "      <td>0.2732</td>\n",
       "      <td>181</td>\n",
       "    </tr>\n",
       "  </tbody>\n",
       "</table>\n",
       "</div>"
      ],
      "text/plain": [
       "            iv30call  calloi  callvol  iv30put  putoi  putvol  iv30mean  \\\n",
       "quotedate                                                                 \n",
       "2002-02-01    0.2198    5938      107   0.1924   6350       5    0.2061   \n",
       "2002-02-04    0.2336    6000       86   0.2412   6352      85    0.2374   \n",
       "2002-02-05    0.2549    6076     1089   0.2461   6368    2411    0.2505   \n",
       "2002-02-06    0.2575    6649        5   0.2635   8486    1854    0.2605   \n",
       "2002-02-07    0.2518    6147       28   0.2945   9572     153    0.2732   \n",
       "\n",
       "            totalvol  \n",
       "quotedate             \n",
       "2002-02-01       112  \n",
       "2002-02-04       171  \n",
       "2002-02-05      3500  \n",
       "2002-02-06      1859  \n",
       "2002-02-07       181  "
      ]
     },
     "execution_count": 9,
     "metadata": {},
     "output_type": "execute_result"
    }
   ],
   "source": [
    "symboldata2.head(5)"
   ]
  },
  {
   "cell_type": "markdown",
   "metadata": {},
   "source": [
    "#### Cargamos el pickle, y comparamos la velocidad de carga en comparacion del read csv "
   ]
  },
  {
   "cell_type": "code",
   "execution_count": 10,
   "metadata": {
    "scrolled": true
   },
   "outputs": [],
   "source": [
    "df1 = pd.read_pickle('/home/py/datasets/pickle'+ '/' + symboldataname)\n",
    "df2 = pd.read_pickle('/home/py/datasets/pickle'+ '/' + symboldataname2)"
   ]
  },
  {
   "cell_type": "markdown",
   "metadata": {},
   "source": [
    "Calculamos la correlacion de una ventana de 5 periodos entre dataframes"
   ]
  },
  {
   "cell_type": "code",
   "execution_count": 11,
   "metadata": {
    "scrolled": true
   },
   "outputs": [
    {
     "data": {
      "text/plain": [
       "<matplotlib.legend.Legend at 0x7f81d72b30b8>"
      ]
     },
     "execution_count": 11,
     "metadata": {},
     "output_type": "execute_result"
    },
    {
     "data": {
      "image/png": "[encoded data removed]",
      "text/plain": [
       "<Figure size 432x288 with 1 Axes>"
      ]
     },
     "metadata": {
      "needs_background": "light"
     },
     "output_type": "display_data"
    }
   ],
   "source": [
    "\n",
    "df1.iv30put.rolling(5).corr(df1.iv30call.rolling(5)).plot(color='r',alpha=0.3)\n",
    "plt.legend(['IV CORR'])\n",
    "df1.putoi.rolling(5).corr(df1.calloi.rolling(5)).plot(color='b',alpha=0.4)\n",
    "plt.legend(['IO CORR'])\n",
    "df1.putvol.rolling(5).corr(df1.callvol.rolling(5)).plot(color='g',alpha=0.5)\n",
    "plt.legend(['VOL CORR'])\n"
   ]
  },
  {
   "cell_type": "code",
   "execution_count": 12,
   "metadata": {
    "scrolled": true
   },
   "outputs": [],
   "source": [
    "correlacion = df1.corr(method = 'kendall')\n",
    "correlacion_mean = correlacion.mean() "
   ]
  },
  {
   "cell_type": "markdown",
   "metadata": {},
   "source": [
    "Vamos a visualizar las correlaciones entre las variables"
   ]
  },
  {
   "cell_type": "code",
   "execution_count": 13,
   "metadata": {
    "scrolled": true
   },
   "outputs": [
    {
     "data": {
      "text/plain": [
       "<matplotlib.axes._subplots.AxesSubplot at 0x7f81d7284748>"
      ]
     },
     "execution_count": 13,
     "metadata": {},
     "output_type": "execute_result"
    },
    {
     "data": {
      "image/png": "[encoded data removed]",
      "text/plain": [
       "<Figure size 432x288 with 1 Axes>"
      ]
     },
     "metadata": {
      "needs_background": "light"
     },
     "output_type": "display_data"
    }
   ],
   "source": [
    "correlacion.plot.bar()"
   ]
  },
  {
   "cell_type": "markdown",
   "metadata": {},
   "source": [
    "Con esta forma de visualizar la informacion, queda clara, pero aun podriamos visualizarla mucho mejor mediante un mapa de calor"
   ]
  },
  {
   "cell_type": "code",
   "execution_count": 14,
   "metadata": {
    "scrolled": true
   },
   "outputs": [
    {
     "data": {
      "text/plain": [
       "<matplotlib.axes._subplots.AxesSubplot at 0x7f81d7173f60>"
      ]
     },
     "execution_count": 14,
     "metadata": {},
     "output_type": "execute_result"
    },
    {
     "data": {
      "image/png": "[encoded data removed]",
      "text/plain": [
       "<Figure size 960x800 with 2 Axes>"
      ]
     },
     "metadata": {
      "needs_background": "light"
     },
     "output_type": "display_data"
    }
   ],
   "source": [
    "mask = np.zeros_like(correlacion, dtype=np.bool)\n",
    "mask[np.triu_indices_from(mask)] = True\n",
    "\n",
    "\n",
    "plt.figure(figsize=(12,10),dpi=80)\n",
    "sns.heatmap(correlacion,mask=mask,\n",
    "            cmap='RdYlGn',center=0, annot=True)\n"
   ]
  },
  {
   "cell_type": "code",
   "execution_count": 15,
   "metadata": {
    "scrolled": true
   },
   "outputs": [],
   "source": [
    "correlacionintermarket = pd.DataFrame(index=df1.index)\n",
    "correlacionintermarket['iv30callRUT'] = df2.iv30call\n",
    "correlacionintermarket['calloiRUT'] = df2.calloi\n",
    "correlacionintermarket['callvolRUT'] = df2.callvol\n",
    "correlacionintermarket['iv30putRUT'] = df2.iv30put\n",
    "correlacionintermarket['putoiRUT'] = df2.putoi\n",
    "correlacionintermarket['putvolRUT'] = df2.putvol\n",
    "correlacionintermarket['ivmean30RUT'] = df2.iv30mean\n",
    "correlacionintermarket['totalvolRUT'] = df2.totalvol\n",
    "correlacionintermarket = correlacionintermarket.corr(method = 'kendall')\n",
    "correlacionintermarketmean = correlacionintermarket.mean()"
   ]
  },
  {
   "cell_type": "code",
   "execution_count": 16,
   "metadata": {
    "scrolled": true
   },
   "outputs": [
    {
     "data": {
      "text/plain": [
       "<matplotlib.axes._subplots.AxesSubplot at 0x7f81d7091b70>"
      ]
     },
     "execution_count": 16,
     "metadata": {},
     "output_type": "execute_result"
    },
    {
     "data": {
      "image/png": "[encoded data removed]",
      "text/plain": [
       "<Figure size 960x800 with 2 Axes>"
      ]
     },
     "metadata": {
      "needs_background": "light"
     },
     "output_type": "display_data"
    }
   ],
   "source": [
    "mask = np.zeros_like(correlacionintermarket, dtype=np.bool)\n",
    "mask[np.triu_indices_from(mask)] = True\n",
    "\n",
    "\n",
    "plt.figure(figsize=(12,10),dpi=80)\n",
    "sns.heatmap(correlacionintermarket,mask=mask,\n",
    "            cmap='RdYlGn',center=0, annot=True)\n"
   ]
  },
  {
   "cell_type": "code",
   "execution_count": null,
   "metadata": {},
   "outputs": [],
   "source": []
  },
  {
   "cell_type": "code",
   "execution_count": null,
   "metadata": {},
   "outputs": [],
   "source": []
  },
  {
   "cell_type": "code",
   "execution_count": null,
   "metadata": {},
   "outputs": [],
   "source": []
  }
 ],
 "metadata": {
  "kernelspec": {
   "display_name": "Python 3",
   "language": "python",
   "name": "python3"
  },
  "language_info": {
   "codemirror_mode": {
    "name": "ipython",
    "version": 3
   },
   "file_extension": ".py",
   "mimetype": "text/x-python",
   "name": "python",
   "nbconvert_exporter": "python",
   "pygments_lexer": "ipython3",
   "version": "3.7.2"
  }
 },
 "nbformat": 4,
 "nbformat_minor": 2
}
